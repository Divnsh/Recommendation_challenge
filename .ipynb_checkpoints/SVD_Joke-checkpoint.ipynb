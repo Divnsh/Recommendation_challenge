{
 "cells": [
  {
   "cell_type": "code",
   "execution_count": 85,
   "metadata": {
    "ExecuteTime": {
     "end_time": "2020-07-02T15:28:04.683758Z",
     "start_time": "2020-07-02T15:28:04.678139Z"
    }
   },
   "outputs": [],
   "source": [
    "import pandas as pd\n",
    "import numpy as np\n",
    "import os\n",
    "from surprise import Dataset, Reader, SVD, accuracy, Reader,SVDpp\n",
    "from surprise.model_selection import cross_validate,GridSearchCV\n",
    "import datetime"
   ]
  },
  {
   "cell_type": "code",
   "execution_count": 86,
   "metadata": {
    "ExecuteTime": {
     "end_time": "2020-07-02T15:28:05.554811Z",
     "start_time": "2020-07-02T15:28:04.933784Z"
    }
   },
   "outputs": [],
   "source": [
    "train = pd.read_csv('./Data/train.csv')\n",
    "challenge = pd.read_csv('./Data/challenge_data.csv')\n",
    "test = pd.read_csv('./Data/test.csv')"
   ]
  },
  {
   "cell_type": "code",
   "execution_count": 87,
   "metadata": {
    "ExecuteTime": {
     "end_time": "2020-07-02T15:28:05.590304Z",
     "start_time": "2020-07-02T15:28:05.584334Z"
    }
   },
   "outputs": [
    {
     "data": {
      "text/html": [
       "<div>\n",
       "<style scoped>\n",
       "    .dataframe tbody tr th:only-of-type {\n",
       "        vertical-align: middle;\n",
       "    }\n",
       "\n",
       "    .dataframe tbody tr th {\n",
       "        vertical-align: top;\n",
       "    }\n",
       "\n",
       "    .dataframe thead th {\n",
       "        text-align: right;\n",
       "    }\n",
       "</style>\n",
       "<table border=\"1\" class=\"dataframe\">\n",
       "  <thead>\n",
       "    <tr style=\"text-align: right;\">\n",
       "      <th></th>\n",
       "      <th>user_sequence</th>\n",
       "      <th>user_id</th>\n",
       "      <th>challenge_sequence</th>\n",
       "      <th>challenge</th>\n",
       "    </tr>\n",
       "  </thead>\n",
       "  <tbody>\n",
       "    <tr>\n",
       "      <th>903911</th>\n",
       "      <td>113839_9</td>\n",
       "      <td>113839</td>\n",
       "      <td>9</td>\n",
       "      <td>CI24992</td>\n",
       "    </tr>\n",
       "    <tr>\n",
       "      <th>903912</th>\n",
       "      <td>113839_10</td>\n",
       "      <td>113839</td>\n",
       "      <td>10</td>\n",
       "      <td>CI28586</td>\n",
       "    </tr>\n",
       "    <tr>\n",
       "      <th>903913</th>\n",
       "      <td>113839_11</td>\n",
       "      <td>113839</td>\n",
       "      <td>11</td>\n",
       "      <td>CI28610</td>\n",
       "    </tr>\n",
       "    <tr>\n",
       "      <th>903914</th>\n",
       "      <td>113839_12</td>\n",
       "      <td>113839</td>\n",
       "      <td>12</td>\n",
       "      <td>CI26388</td>\n",
       "    </tr>\n",
       "    <tr>\n",
       "      <th>903915</th>\n",
       "      <td>113839_13</td>\n",
       "      <td>113839</td>\n",
       "      <td>13</td>\n",
       "      <td>CI28630</td>\n",
       "    </tr>\n",
       "  </tbody>\n",
       "</table>\n",
       "</div>"
      ],
      "text/plain": [
       "       user_sequence  user_id  challenge_sequence challenge\n",
       "903911      113839_9   113839                   9   CI24992\n",
       "903912     113839_10   113839                  10   CI28586\n",
       "903913     113839_11   113839                  11   CI28610\n",
       "903914     113839_12   113839                  12   CI26388\n",
       "903915     113839_13   113839                  13   CI28630"
      ]
     },
     "execution_count": 87,
     "metadata": {},
     "output_type": "execute_result"
    }
   ],
   "source": [
    "train.tail()"
   ]
  },
  {
   "cell_type": "code",
   "execution_count": 88,
   "metadata": {
    "ExecuteTime": {
     "end_time": "2020-07-02T15:28:07.371298Z",
     "start_time": "2020-07-02T15:28:05.745730Z"
    }
   },
   "outputs": [],
   "source": [
    "challenge['total_submissions']=np.where(challenge['total_submissions'].isna(),np.median(challenge['total_submissions'].dropna()),challenge['total_submissions'])\n",
    "cols_to_one_hot=['programming_language','author_gender']\n",
    "\n",
    "for c in cols_to_one_hot:\n",
    "    dummies=pd.get_dummies(challenge[c],prefix=c,drop_first=True)\n",
    "    challenge=pd.concat([challenge,dummies],axis=1).drop(c,axis=1)\n",
    "\n",
    "challenge['challenge_series_ID']=np.where(challenge['challenge_series_ID']==np.nan,'SI2652',challenge['challenge_series_ID'])\n",
    "\n",
    "challenge['publish_date']=pd.to_datetime(challenge['publish_date'])\n",
    "challenge['how_old']=challenge['publish_date'].apply(lambda d: (datetime.datetime.today()-d).days)\n",
    "\n",
    "challenge.drop(['publish_date','author_ID','author_org_ID','category_id'],axis=1,inplace=True)\n",
    "\n",
    "from category_encoders.hashing import HashingEncoder\n",
    "\n",
    "challenge=HashingEncoder(cols=['challenge_series_ID'],n_components=32).fit_transform(challenge)"
   ]
  },
  {
   "cell_type": "code",
   "execution_count": 5,
   "metadata": {
    "ExecuteTime": {
     "end_time": "2020-07-01T20:17:26.773008Z",
     "start_time": "2020-07-01T20:17:26.752005Z"
    }
   },
   "outputs": [],
   "source": [
    "test=test[['user_id','challenge','challenge_sequence']]"
   ]
  },
  {
   "cell_type": "code",
   "execution_count": 6,
   "metadata": {
    "ExecuteTime": {
     "end_time": "2020-07-01T20:17:27.808838Z",
     "start_time": "2020-07-01T20:17:27.804835Z"
    }
   },
   "outputs": [],
   "source": [
    "recode=dict((i,j) for i,j in zip(range(1,14),range(13,0,-1)))\n"
   ]
  },
  {
   "cell_type": "code",
   "execution_count": 7,
   "metadata": {
    "ExecuteTime": {
     "end_time": "2020-07-01T20:17:29.704154Z",
     "start_time": "2020-07-01T20:17:29.630932Z"
    }
   },
   "outputs": [],
   "source": [
    "train['challenge_sequence']=train['challenge_sequence'].map(recode)"
   ]
  },
  {
   "cell_type": "code",
   "execution_count": 8,
   "metadata": {
    "ExecuteTime": {
     "end_time": "2020-07-01T20:17:30.630371Z",
     "start_time": "2020-07-01T20:17:29.892537Z"
    }
   },
   "outputs": [],
   "source": [
    "reader = Reader(rating_scale=(1, 13))\n",
    "data = Dataset.load_from_df(train[['user_id',  'challenge',  'challenge_sequence']], reader)"
   ]
  },
  {
   "cell_type": "code",
   "execution_count": null,
   "metadata": {
    "ExecuteTime": {
     "end_time": "2020-07-01T20:22:36.304223Z",
     "start_time": "2020-07-01T20:17:31.145Z"
    }
   },
   "outputs": [],
   "source": [
    "'''param_grid = {'n_epochs': [5, 10], 'lr_all': [0.002, 0.005],\n",
    "              'reg_all': [0.4, 0.6]}\n",
    "gs = GridSearchCV(SVDpp, param_grid, measures=['rmse', 'mae'], cv=3)\n",
    "\n",
    "gs.fit(data)\n",
    "\n",
    "# best RMSE score\n",
    "print(gs.best_score['rmse'])\n",
    "\n",
    "# combination of parameters that gave the best RMSE score\n",
    "print(gs.best_params['rmse'])'''"
   ]
  },
  {
   "cell_type": "code",
   "execution_count": 34,
   "metadata": {
    "ExecuteTime": {
     "end_time": "2020-07-01T20:46:03.871305Z",
     "start_time": "2020-07-01T20:44:39.848968Z"
    }
   },
   "outputs": [
    {
     "data": {
      "text/plain": [
       "<surprise.prediction_algorithms.matrix_factorization.SVDpp at 0x7f121fb5ffd0>"
      ]
     },
     "execution_count": 34,
     "metadata": {},
     "output_type": "execute_result"
    }
   ],
   "source": [
    "# Fitting SVD++ on train data\n",
    "\n",
    "algo = SVDpp(n_epochs=10, lr_all=0.005, reg_all=0.4)\n",
    "algo.fit(data.build_full_trainset())"
   ]
  },
  {
   "cell_type": "code",
   "execution_count": 38,
   "metadata": {
    "ExecuteTime": {
     "end_time": "2020-07-01T20:47:31.082002Z",
     "start_time": "2020-07-01T20:47:30.991598Z"
    }
   },
   "outputs": [],
   "source": [
    "# User, item vecs extracted from model\n",
    "\n",
    "id2user=dict((id,userid) for id,userid in enumerate(train.user_id.unique()))\n",
    "id2challenge=dict((id,userid) for id,userid in enumerate(train.challenge.unique()))\n",
    "\n",
    "user_vecs={}\n",
    "item_vecs={}\n",
    "\n",
    "for id in range(len(algo.pu)):\n",
    "    user_vecs[id2user[id]]=algo.pu[id]\n",
    "\n",
    "for id in range(len(algo.qi)):\n",
    "    item_vecs[id2challenge[id]]=algo.qi[id]"
   ]
  },
  {
   "cell_type": "code",
   "execution_count": 40,
   "metadata": {
    "ExecuteTime": {
     "end_time": "2020-07-01T20:50:47.349265Z",
     "start_time": "2020-07-01T20:50:44.928420Z"
    }
   },
   "outputs": [
    {
     "name": "stdout",
     "output_type": "stream",
     "text": [
      "(20, 69532) (20, 5348)\n"
     ]
    }
   ],
   "source": [
    "userdf = pd.DataFrame(user_vecs)\n",
    "itemdf=pd.DataFrame(item_vecs)\n",
    "print(userdf.shape,itemdf.shape)"
   ]
  },
  {
   "cell_type": "code",
   "execution_count": 13,
   "metadata": {
    "ExecuteTime": {
     "end_time": "2020-07-01T20:27:52.814745Z",
     "start_time": "2020-07-01T20:27:51.578823Z"
    }
   },
   "outputs": [],
   "source": [
    "# Scored are obtained by taking dot product of user-item cevtors\n",
    "\n",
    "scores=np.dot(np.transpose(np.array(userdf)),np.array(itemdf))"
   ]
  },
  {
   "cell_type": "code",
   "execution_count": 14,
   "metadata": {
    "ExecuteTime": {
     "end_time": "2020-07-01T20:29:20.258218Z",
     "start_time": "2020-07-01T20:29:20.214162Z"
    }
   },
   "outputs": [],
   "source": [
    "scoredf=pd.DataFrame(scores,columns=list(itemdf.columns))\n",
    "scoredf['user_id']=list(userdf.columns)"
   ]
  },
  {
   "cell_type": "code",
   "execution_count": 15,
   "metadata": {
    "ExecuteTime": {
     "end_time": "2020-07-01T20:30:48.004469Z",
     "start_time": "2020-07-01T20:30:47.993268Z"
    }
   },
   "outputs": [],
   "source": [
    "del user_vecs,item_vecs,scores,algo"
   ]
  },
  {
   "cell_type": "code",
   "execution_count": 66,
   "metadata": {
    "ExecuteTime": {
     "end_time": "2020-07-01T19:42:06.280339Z",
     "start_time": "2020-07-01T19:42:06.259973Z"
    }
   },
   "outputs": [
    {
     "data": {
      "text/html": [
       "<div>\n",
       "<style scoped>\n",
       "    .dataframe tbody tr th:only-of-type {\n",
       "        vertical-align: middle;\n",
       "    }\n",
       "\n",
       "    .dataframe tbody tr th {\n",
       "        vertical-align: top;\n",
       "    }\n",
       "\n",
       "    .dataframe thead th {\n",
       "        text-align: right;\n",
       "    }\n",
       "</style>\n",
       "<table border=\"1\" class=\"dataframe\">\n",
       "  <thead>\n",
       "    <tr style=\"text-align: right;\">\n",
       "      <th></th>\n",
       "      <th>CI23714</th>\n",
       "      <th>CI23855</th>\n",
       "      <th>CI24917</th>\n",
       "      <th>CI23663</th>\n",
       "      <th>CI23933</th>\n",
       "      <th>CI25135</th>\n",
       "      <th>CI23975</th>\n",
       "      <th>CI25126</th>\n",
       "      <th>CI24915</th>\n",
       "      <th>CI24957</th>\n",
       "      <th>...</th>\n",
       "      <th>CI28672</th>\n",
       "      <th>CI26373</th>\n",
       "      <th>CI28667</th>\n",
       "      <th>CI28664</th>\n",
       "      <th>CI25931</th>\n",
       "      <th>CI28657</th>\n",
       "      <th>CI28611</th>\n",
       "      <th>CI25967</th>\n",
       "      <th>CI27413</th>\n",
       "      <th>user_id</th>\n",
       "    </tr>\n",
       "  </thead>\n",
       "  <tbody>\n",
       "    <tr>\n",
       "      <th>0</th>\n",
       "      <td>-0.154752</td>\n",
       "      <td>-0.190409</td>\n",
       "      <td>-0.312791</td>\n",
       "      <td>-0.480181</td>\n",
       "      <td>-0.236941</td>\n",
       "      <td>-0.106825</td>\n",
       "      <td>-0.466419</td>\n",
       "      <td>-0.003752</td>\n",
       "      <td>-0.141227</td>\n",
       "      <td>-0.001980</td>\n",
       "      <td>...</td>\n",
       "      <td>-0.011542</td>\n",
       "      <td>0.049640</td>\n",
       "      <td>0.060211</td>\n",
       "      <td>0.004813</td>\n",
       "      <td>0.004069</td>\n",
       "      <td>0.011366</td>\n",
       "      <td>-0.112581</td>\n",
       "      <td>-0.001927</td>\n",
       "      <td>0.026454</td>\n",
       "      <td>4576</td>\n",
       "    </tr>\n",
       "    <tr>\n",
       "      <th>1</th>\n",
       "      <td>-0.208036</td>\n",
       "      <td>-0.215908</td>\n",
       "      <td>-0.279098</td>\n",
       "      <td>-0.128040</td>\n",
       "      <td>-0.129840</td>\n",
       "      <td>-0.182648</td>\n",
       "      <td>-0.244329</td>\n",
       "      <td>-0.216447</td>\n",
       "      <td>-0.177333</td>\n",
       "      <td>-0.007434</td>\n",
       "      <td>...</td>\n",
       "      <td>0.078880</td>\n",
       "      <td>-0.001055</td>\n",
       "      <td>0.016805</td>\n",
       "      <td>-0.034850</td>\n",
       "      <td>0.013813</td>\n",
       "      <td>-0.007991</td>\n",
       "      <td>-0.018552</td>\n",
       "      <td>-0.068079</td>\n",
       "      <td>0.030854</td>\n",
       "      <td>4580</td>\n",
       "    </tr>\n",
       "    <tr>\n",
       "      <th>2</th>\n",
       "      <td>1.277583</td>\n",
       "      <td>0.850359</td>\n",
       "      <td>1.152478</td>\n",
       "      <td>0.878967</td>\n",
       "      <td>0.755910</td>\n",
       "      <td>0.823475</td>\n",
       "      <td>0.751756</td>\n",
       "      <td>0.685226</td>\n",
       "      <td>0.782328</td>\n",
       "      <td>-0.122566</td>\n",
       "      <td>...</td>\n",
       "      <td>-0.016654</td>\n",
       "      <td>-0.019840</td>\n",
       "      <td>0.045139</td>\n",
       "      <td>0.049607</td>\n",
       "      <td>-0.096285</td>\n",
       "      <td>0.116673</td>\n",
       "      <td>0.008976</td>\n",
       "      <td>0.215022</td>\n",
       "      <td>0.013566</td>\n",
       "      <td>4581</td>\n",
       "    </tr>\n",
       "    <tr>\n",
       "      <th>3</th>\n",
       "      <td>-0.029228</td>\n",
       "      <td>0.004789</td>\n",
       "      <td>-0.001619</td>\n",
       "      <td>0.064269</td>\n",
       "      <td>0.046579</td>\n",
       "      <td>-0.087337</td>\n",
       "      <td>0.056730</td>\n",
       "      <td>-0.130914</td>\n",
       "      <td>-0.007173</td>\n",
       "      <td>-0.116950</td>\n",
       "      <td>...</td>\n",
       "      <td>-0.046073</td>\n",
       "      <td>-0.023402</td>\n",
       "      <td>-0.002217</td>\n",
       "      <td>-0.021489</td>\n",
       "      <td>-0.034333</td>\n",
       "      <td>0.021543</td>\n",
       "      <td>-0.047488</td>\n",
       "      <td>0.028377</td>\n",
       "      <td>-0.000671</td>\n",
       "      <td>4582</td>\n",
       "    </tr>\n",
       "    <tr>\n",
       "      <th>4</th>\n",
       "      <td>-0.190503</td>\n",
       "      <td>-0.163927</td>\n",
       "      <td>-0.203107</td>\n",
       "      <td>-0.155737</td>\n",
       "      <td>-0.234652</td>\n",
       "      <td>-0.128566</td>\n",
       "      <td>-0.252554</td>\n",
       "      <td>-0.148412</td>\n",
       "      <td>-0.197548</td>\n",
       "      <td>-0.064760</td>\n",
       "      <td>...</td>\n",
       "      <td>0.042040</td>\n",
       "      <td>0.010675</td>\n",
       "      <td>-0.030556</td>\n",
       "      <td>0.033043</td>\n",
       "      <td>-0.013079</td>\n",
       "      <td>-0.037954</td>\n",
       "      <td>-0.117103</td>\n",
       "      <td>0.008401</td>\n",
       "      <td>0.034584</td>\n",
       "      <td>4585</td>\n",
       "    </tr>\n",
       "  </tbody>\n",
       "</table>\n",
       "<p>5 rows × 5349 columns</p>\n",
       "</div>"
      ],
      "text/plain": [
       "    CI23714   CI23855   CI24917   CI23663   CI23933   CI25135   CI23975  \\\n",
       "0 -0.154752 -0.190409 -0.312791 -0.480181 -0.236941 -0.106825 -0.466419   \n",
       "1 -0.208036 -0.215908 -0.279098 -0.128040 -0.129840 -0.182648 -0.244329   \n",
       "2  1.277583  0.850359  1.152478  0.878967  0.755910  0.823475  0.751756   \n",
       "3 -0.029228  0.004789 -0.001619  0.064269  0.046579 -0.087337  0.056730   \n",
       "4 -0.190503 -0.163927 -0.203107 -0.155737 -0.234652 -0.128566 -0.252554   \n",
       "\n",
       "    CI25126   CI24915   CI24957  ...   CI28672   CI26373   CI28667   CI28664  \\\n",
       "0 -0.003752 -0.141227 -0.001980  ... -0.011542  0.049640  0.060211  0.004813   \n",
       "1 -0.216447 -0.177333 -0.007434  ...  0.078880 -0.001055  0.016805 -0.034850   \n",
       "2  0.685226  0.782328 -0.122566  ... -0.016654 -0.019840  0.045139  0.049607   \n",
       "3 -0.130914 -0.007173 -0.116950  ... -0.046073 -0.023402 -0.002217 -0.021489   \n",
       "4 -0.148412 -0.197548 -0.064760  ...  0.042040  0.010675 -0.030556  0.033043   \n",
       "\n",
       "    CI25931   CI28657   CI28611   CI25967   CI27413  user_id  \n",
       "0  0.004069  0.011366 -0.112581 -0.001927  0.026454     4576  \n",
       "1  0.013813 -0.007991 -0.018552 -0.068079  0.030854     4580  \n",
       "2 -0.096285  0.116673  0.008976  0.215022  0.013566     4581  \n",
       "3 -0.034333  0.021543 -0.047488  0.028377 -0.000671     4582  \n",
       "4 -0.013079 -0.037954 -0.117103  0.008401  0.034584     4585  \n",
       "\n",
       "[5 rows x 5349 columns]"
      ]
     },
     "execution_count": 66,
     "metadata": {},
     "output_type": "execute_result"
    }
   ],
   "source": [
    "scoredf.head()"
   ]
  },
  {
   "cell_type": "code",
   "execution_count": 16,
   "metadata": {
    "ExecuteTime": {
     "end_time": "2020-07-01T20:31:29.671777Z",
     "start_time": "2020-07-01T20:30:57.384124Z"
    }
   },
   "outputs": [
    {
     "data": {
      "text/plain": [
       "<surprise.prediction_algorithms.matrix_factorization.SVDpp at 0x7f12fc8689e8>"
      ]
     },
     "execution_count": 16,
     "metadata": {},
     "output_type": "execute_result"
    }
   ],
   "source": [
    "# Fitting model on test set\n",
    "\n",
    "reader = Reader(rating_scale=(1, 10))\n",
    "recode=dict((i,j) for (i,j) in zip(range(1,11),range(10,0,-1)))\n",
    "test['challenge_sequence']=test['challenge_sequence'].map(recode)\n",
    "testdata = Dataset.load_from_df(test[['user_id',  'challenge',  'challenge_sequence']], reader)\n",
    "algo = SVDpp(n_epochs=10, lr_all=0.005, reg_all=0.4)\n",
    "algo.fit(testdata.build_full_trainset())"
   ]
  },
  {
   "cell_type": "code",
   "execution_count": 17,
   "metadata": {
    "ExecuteTime": {
     "end_time": "2020-07-01T20:31:40.500282Z",
     "start_time": "2020-07-01T20:31:39.033978Z"
    }
   },
   "outputs": [],
   "source": [
    "testid2user=dict((id,userid) for id,userid in enumerate(test.user_id.unique()))\n",
    "testid2challenge=dict((id,userid) for id,userid in enumerate(test.challenge.unique()))\n",
    "\n",
    "user_vecs={}\n",
    "item_vecs={}\n",
    "\n",
    "for id in range(len(algo.pu)):\n",
    "    user_vecs[id2user[id]]=algo.pu[id]\n",
    "\n",
    "for id in range(len(algo.qi)):\n",
    "    item_vecs[id2challenge[id]]=algo.qi[id]\n",
    "    \n",
    "testuserdf = pd.DataFrame(user_vecs)\n",
    "testitemdf=pd.DataFrame(item_vecs)\n",
    "\n",
    "del user_vecs,item_vecs,algo"
   ]
  },
  {
   "cell_type": "code",
   "execution_count": 42,
   "metadata": {
    "ExecuteTime": {
     "end_time": "2020-07-01T20:54:00.029807Z",
     "start_time": "2020-07-01T20:53:59.928666Z"
    }
   },
   "outputs": [
    {
     "name": "stdout",
     "output_type": "stream",
     "text": [
      "Number of available GPUs: 1    Using: 1\n"
     ]
    }
   ],
   "source": [
    "# We will find the users in train set that are closest to test set users\n",
    "\n",
    "import faiss\n",
    "\n",
    "cpu_index = faiss.IndexFlatL2(userdf.shape[0])\n",
    "n_gpu = 1\n",
    "print('Number of available GPUs: %d    Using: %d' % (faiss.get_num_gpus(), n_gpu))\n",
    "co = faiss.GpuMultipleClonerOptions()\n",
    "co.shard = True\n",
    "gpu_index = faiss.index_cpu_to_all_gpus(cpu_index, co=co, ngpu=n_gpu)"
   ]
  },
  {
   "cell_type": "code",
   "execution_count": 44,
   "metadata": {
    "ExecuteTime": {
     "end_time": "2020-07-01T20:57:15.456451Z",
     "start_time": "2020-07-01T20:57:15.415273Z"
    }
   },
   "outputs": [],
   "source": [
    "userdf=userdf.astype('float32')\n",
    "testuserdf=testuserdf.astype('float32')"
   ]
  },
  {
   "cell_type": "code",
   "execution_count": 45,
   "metadata": {
    "ExecuteTime": {
     "end_time": "2020-07-01T20:59:06.013564Z",
     "start_time": "2020-07-01T20:59:05.991897Z"
    }
   },
   "outputs": [
    {
     "name": "stdout",
     "output_type": "stream",
     "text": [
      "Adding dataset to index...\n",
      "Building index took 0.02 seconds\n"
     ]
    }
   ],
   "source": [
    "import time\n",
    "\n",
    "print('Adding dataset to index...')\n",
    "t0 = time.time()    \n",
    "\n",
    "gpu_index.add(np.transpose(np.array(userdf)))\n",
    "\n",
    "elapsed = time.time() - t0\n",
    "print('Building index took %.2f seconds' % (elapsed))"
   ]
  },
  {
   "cell_type": "code",
   "execution_count": 48,
   "metadata": {
    "ExecuteTime": {
     "end_time": "2020-07-01T21:13:14.904250Z",
     "start_time": "2020-07-01T21:13:14.899020Z"
    }
   },
   "outputs": [],
   "source": [
    "def find_testuser_trainfriends(dat):\n",
    "    friends=[]\n",
    "    for i in range(dat.shape[0]):\n",
    "        D, I = gpu_index.search(dat[i].reshape(1, userdf.shape[0]), k=1)\n",
    "        friends.append(I[0, 0])\n",
    "    return friends\n",
    "\n",
    "def find_testuser_testfriends(dat):\n",
    "    friends=[]\n",
    "    for i in range(dat.shape[0]):\n",
    "        D, I = gpu_index.search(dat[i].reshape(1, testuserdf.shape[0]), k=1)\n",
    "        friends.append(I[0, 0])\n",
    "    return friends"
   ]
  },
  {
   "cell_type": "code",
   "execution_count": 50,
   "metadata": {
    "ExecuteTime": {
     "end_time": "2020-07-01T21:19:52.431862Z",
     "start_time": "2020-07-01T21:19:42.784735Z"
    }
   },
   "outputs": [],
   "source": [
    "# We recommend top 3 highest rated items in the nearest user basket\n",
    "\n",
    "test_train_friends=find_testuser_trainfriends(np.transpose(np.array(testuserdf)))\n",
    "test2trainfriends={}\n",
    "for i,f in enumerate(test_train_friends):\n",
    "    test2trainfriends[testid2user[i]]=id2user[f]"
   ]
  },
  {
   "cell_type": "code",
   "execution_count": 52,
   "metadata": {
    "ExecuteTime": {
     "end_time": "2020-07-01T22:36:01.919615Z",
     "start_time": "2020-07-01T21:26:49.827576Z"
    }
   },
   "outputs": [
    {
     "ename": "KeyboardInterrupt",
     "evalue": "",
     "output_type": "error",
     "traceback": [
      "\u001b[0;31m---------------------------------------------------------------------------\u001b[0m",
      "\u001b[0;31mKeyboardInterrupt\u001b[0m                         Traceback (most recent call last)",
      "\u001b[0;32m<ipython-input-52-13d9ee32348f>\u001b[0m in \u001b[0;36m<module>\u001b[0;34m\u001b[0m\n\u001b[1;32m      7\u001b[0m     \u001b[0midx\u001b[0m\u001b[0;34m=\u001b[0m\u001b[0mnp\u001b[0m\u001b[0;34m.\u001b[0m\u001b[0margsort\u001b[0m\u001b[0;34m(\u001b[0m\u001b[0mlist\u001b[0m\u001b[0;34m(\u001b[0m\u001b[0mr\u001b[0m\u001b[0;34m)\u001b[0m\u001b[0;34m[\u001b[0m\u001b[0;34m:\u001b[0m\u001b[0;34m-\u001b[0m\u001b[0;36m1\u001b[0m\u001b[0;34m]\u001b[0m\u001b[0;34m)\u001b[0m\u001b[0;34m[\u001b[0m\u001b[0;34m:\u001b[0m\u001b[0;34m:\u001b[0m\u001b[0;34m-\u001b[0m\u001b[0;36m1\u001b[0m\u001b[0;34m]\u001b[0m\u001b[0;34m\u001b[0m\u001b[0;34m\u001b[0m\u001b[0m\n\u001b[1;32m      8\u001b[0m     \u001b[0msorted_cols\u001b[0m\u001b[0;34m=\u001b[0m\u001b[0mscoredf\u001b[0m\u001b[0;34m.\u001b[0m\u001b[0mcolumns\u001b[0m\u001b[0;34m[\u001b[0m\u001b[0midx\u001b[0m\u001b[0;34m]\u001b[0m\u001b[0;34m\u001b[0m\u001b[0;34m\u001b[0m\u001b[0m\n\u001b[0;32m----> 9\u001b[0;31m     \u001b[0mchallenge_list\u001b[0m\u001b[0;34m=\u001b[0m\u001b[0;34m[\u001b[0m\u001b[0mc\u001b[0m \u001b[0;32mfor\u001b[0m \u001b[0mc\u001b[0m \u001b[0;32min\u001b[0m \u001b[0msorted_cols\u001b[0m \u001b[0;32mif\u001b[0m \u001b[0mc\u001b[0m \u001b[0;32mnot\u001b[0m \u001b[0;32min\u001b[0m \u001b[0mlist\u001b[0m\u001b[0;34m(\u001b[0m\u001b[0mtest\u001b[0m\u001b[0;34m.\u001b[0m\u001b[0mchallenge\u001b[0m\u001b[0;34m)\u001b[0m\u001b[0;34m]\u001b[0m\u001b[0;34m[\u001b[0m\u001b[0;34m:\u001b[0m\u001b[0;36m3\u001b[0m\u001b[0;34m]\u001b[0m\u001b[0;34m\u001b[0m\u001b[0;34m\u001b[0m\u001b[0m\n\u001b[0m\u001b[1;32m     10\u001b[0m     \u001b[0muserscores\u001b[0m\u001b[0;34m[\u001b[0m\u001b[0mte_user\u001b[0m\u001b[0;34m]\u001b[0m\u001b[0;34m=\u001b[0m\u001b[0mchallenge_list\u001b[0m\u001b[0;34m\u001b[0m\u001b[0;34m\u001b[0m\u001b[0m\n",
      "\u001b[0;32m<ipython-input-52-13d9ee32348f>\u001b[0m in \u001b[0;36m<listcomp>\u001b[0;34m(.0)\u001b[0m\n\u001b[1;32m      7\u001b[0m     \u001b[0midx\u001b[0m\u001b[0;34m=\u001b[0m\u001b[0mnp\u001b[0m\u001b[0;34m.\u001b[0m\u001b[0margsort\u001b[0m\u001b[0;34m(\u001b[0m\u001b[0mlist\u001b[0m\u001b[0;34m(\u001b[0m\u001b[0mr\u001b[0m\u001b[0;34m)\u001b[0m\u001b[0;34m[\u001b[0m\u001b[0;34m:\u001b[0m\u001b[0;34m-\u001b[0m\u001b[0;36m1\u001b[0m\u001b[0;34m]\u001b[0m\u001b[0;34m)\u001b[0m\u001b[0;34m[\u001b[0m\u001b[0;34m:\u001b[0m\u001b[0;34m:\u001b[0m\u001b[0;34m-\u001b[0m\u001b[0;36m1\u001b[0m\u001b[0;34m]\u001b[0m\u001b[0;34m\u001b[0m\u001b[0;34m\u001b[0m\u001b[0m\n\u001b[1;32m      8\u001b[0m     \u001b[0msorted_cols\u001b[0m\u001b[0;34m=\u001b[0m\u001b[0mscoredf\u001b[0m\u001b[0;34m.\u001b[0m\u001b[0mcolumns\u001b[0m\u001b[0;34m[\u001b[0m\u001b[0midx\u001b[0m\u001b[0;34m]\u001b[0m\u001b[0;34m\u001b[0m\u001b[0;34m\u001b[0m\u001b[0m\n\u001b[0;32m----> 9\u001b[0;31m     \u001b[0mchallenge_list\u001b[0m\u001b[0;34m=\u001b[0m\u001b[0;34m[\u001b[0m\u001b[0mc\u001b[0m \u001b[0;32mfor\u001b[0m \u001b[0mc\u001b[0m \u001b[0;32min\u001b[0m \u001b[0msorted_cols\u001b[0m \u001b[0;32mif\u001b[0m \u001b[0mc\u001b[0m \u001b[0;32mnot\u001b[0m \u001b[0;32min\u001b[0m \u001b[0mlist\u001b[0m\u001b[0;34m(\u001b[0m\u001b[0mtest\u001b[0m\u001b[0;34m.\u001b[0m\u001b[0mchallenge\u001b[0m\u001b[0;34m)\u001b[0m\u001b[0;34m]\u001b[0m\u001b[0;34m[\u001b[0m\u001b[0;34m:\u001b[0m\u001b[0;36m3\u001b[0m\u001b[0;34m]\u001b[0m\u001b[0;34m\u001b[0m\u001b[0;34m\u001b[0m\u001b[0m\n\u001b[0m\u001b[1;32m     10\u001b[0m     \u001b[0muserscores\u001b[0m\u001b[0;34m[\u001b[0m\u001b[0mte_user\u001b[0m\u001b[0;34m]\u001b[0m\u001b[0;34m=\u001b[0m\u001b[0mchallenge_list\u001b[0m\u001b[0;34m\u001b[0m\u001b[0;34m\u001b[0m\u001b[0m\n",
      "\u001b[0;31mKeyboardInterrupt\u001b[0m: "
     ]
    }
   ],
   "source": [
    "# Making final predictions\n",
    "\n",
    "userscores={}\n",
    "\n",
    "for te_user,tr_user in test2trainfriends.items():    \n",
    "    r=scoredf.loc[scoredf['user_id']==tr_user]\n",
    "    idx=np.argsort(list(r)[:-1])[::-1]\n",
    "    sorted_cols=scoredf.columns[idx]\n",
    "    challenge_list=[c for c in sorted_cols if c not in list(test.challenge)][:3]\n",
    "    userscores[te_user]=challenge_list"
   ]
  },
  {
   "cell_type": "code",
   "execution_count": null,
   "metadata": {},
   "outputs": [],
   "source": [
    "resdf = pd.DataFrame({\n",
    "      'user_sequence':[str(k)+'_'+str(i) for k in userscores.keys() for i in [1,2,3]]\n",
    "      'challenge': [item for sublist in userscores.values() for item in sublist]\n",
    "      })\n",
    "\n",
    "resdf.head()"
   ]
  }
 ],
 "metadata": {
  "hide_input": false,
  "kernelspec": {
   "display_name": "Python (pytorch)",
   "language": "python",
   "name": "pytorch"
  },
  "language_info": {
   "codemirror_mode": {
    "name": "ipython",
    "version": 3
   },
   "file_extension": ".py",
   "mimetype": "text/x-python",
   "name": "python",
   "nbconvert_exporter": "python",
   "pygments_lexer": "ipython3",
   "version": "3.6.8"
  },
  "toc": {
   "base_numbering": 1,
   "nav_menu": {},
   "number_sections": true,
   "sideBar": true,
   "skip_h1_title": false,
   "title_cell": "Table of Contents",
   "title_sidebar": "Contents",
   "toc_cell": false,
   "toc_position": {},
   "toc_section_display": true,
   "toc_window_display": false
  },
  "varInspector": {
   "cols": {
    "lenName": 16,
    "lenType": 16,
    "lenVar": 40
   },
   "kernels_config": {
    "python": {
     "delete_cmd_postfix": "",
     "delete_cmd_prefix": "del ",
     "library": "var_list.py",
     "varRefreshCmd": "print(var_dic_list())"
    },
    "r": {
     "delete_cmd_postfix": ") ",
     "delete_cmd_prefix": "rm(",
     "library": "var_list.r",
     "varRefreshCmd": "cat(var_dic_list()) "
    }
   },
   "position": {
    "height": "144.85px",
    "left": "911px",
    "right": "20px",
    "top": "120px",
    "width": "350px"
   },
   "types_to_exclude": [
    "module",
    "function",
    "builtin_function_or_method",
    "instance",
    "_Feature"
   ],
   "window_display": false
  }
 },
 "nbformat": 4,
 "nbformat_minor": 4
}
